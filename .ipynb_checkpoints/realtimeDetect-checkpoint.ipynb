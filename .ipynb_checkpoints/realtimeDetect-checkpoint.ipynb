{
 "cells": [
  {
   "cell_type": "code",
   "execution_count": 4,
   "metadata": {},
   "outputs": [],
   "source": [
    "from tensorflow import keras\n",
    "\n"
   ]
  },
  {
   "cell_type": "code",
   "execution_count": 8,
   "metadata": {},
   "outputs": [],
   "source": [
    "import cv2\n",
    "import numpy as np\n",
    "from PIL import Image\n",
    "from tensorflow import keras\n",
    "\n",
    "model = keras.models.load_model('rps.h5')\n",
    "video= cv2.VideoCapture(0)\n",
    "\n",
    "while True:\n",
    "    _, frame= video.read()\n",
    "    \n",
    "    im=Image.fromarray(frame, \"RGB\")\n",
    "    \n",
    "    im= im.resize((150,150))\n",
    "    image_array = np.array(im)\n",
    "    \n",
    "    image_array = np.expand_dims(image_array , axis=0)\n",
    "    prediction = model.predict(image_array)[0]\n",
    "    \n",
    "    st = \"\"\n",
    "    \n",
    "    if prediction[0]==1:\n",
    "        st+=\"Rock found\"\n",
    "    \n",
    "    elif prediction[1]==1:\n",
    "        st+=\"Paper found\"\n",
    "        \n",
    "    elif prediction[2]==1:\n",
    "        st+=\"Scissor found\"\n",
    "    else:\n",
    "        st+=\"Nothing found.\"\n",
    "    \n",
    "    cv2.imshow(st, frame)\n",
    "    key=cv2.waitKey(1)\n",
    "    if key == ord('q'):\n",
    "            break\n",
    "                \n",
    "video.release()\n",
    "cv2.destroyAllWindows()\n",
    "    \n",
    "    "
   ]
  },
  {
   "cell_type": "code",
   "execution_count": null,
   "metadata": {},
   "outputs": [],
   "source": []
  }
 ],
 "metadata": {
  "kernelspec": {
   "display_name": "Python 3",
   "language": "python",
   "name": "python3"
  },
  "language_info": {
   "codemirror_mode": {
    "name": "ipython",
    "version": 3
   },
   "file_extension": ".py",
   "mimetype": "text/x-python",
   "name": "python",
   "nbconvert_exporter": "python",
   "pygments_lexer": "ipython3",
   "version": "3.7.4"
  }
 },
 "nbformat": 4,
 "nbformat_minor": 2
}
